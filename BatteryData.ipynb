{
 "cells": [
  {
   "cell_type": "code",
   "execution_count": 1,
   "id": "91d7551e",
   "metadata": {},
   "outputs": [],
   "source": [
    "import pandas as pd"
   ]
  },
  {
   "cell_type": "code",
   "execution_count": null,
   "id": "467d13f2",
   "metadata": {},
   "outputs": [
    {
     "name": "stdout",
     "output_type": "stream",
     "text": [
      "   BatteryIndex  CycleIndex         I         V          T            Qd\n",
      "0             0           0  0.542759  2.123264  32.083302  6.003815e-07\n",
      "1             0           0  0.848635  2.151546  32.082854  6.003815e-07\n",
      "2             0           0  1.200086  2.192398  32.082429  6.003815e-07\n",
      "3             0           0  1.550636  2.239513  32.081930  6.003815e-07\n",
      "4             0           0  1.850152  2.283407  32.081520  6.003815e-07\n",
      "Index(['BatteryIndex', 'CycleIndex', 'I', 'V', 'T', 'Qd'], dtype='object')\n",
      "(30725782, 6)\n"
     ]
    }
   ],
   "source": [
    "df = pd.read_csv('battery_cycle_data.csv')\n",
    "print(df.head())\n",
    "print(df.columns)\n",
    "print(df.shape) "
   ]
  }
 ],
 "metadata": {
  "kernelspec": {
   "display_name": "Python 3",
   "language": "python",
   "name": "python3"
  },
  "language_info": {
   "codemirror_mode": {
    "name": "ipython",
    "version": 3
   },
   "file_extension": ".py",
   "mimetype": "text/x-python",
   "name": "python",
   "nbconvert_exporter": "python",
   "pygments_lexer": "ipython3",
   "version": "3.10.2"
  }
 },
 "nbformat": 4,
 "nbformat_minor": 5
}
